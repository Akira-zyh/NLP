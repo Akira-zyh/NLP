{
 "cells": [
  {
   "cell_type": "code",
   "execution_count": 18,
   "metadata": {},
   "outputs": [],
   "source": [
    "from nltk.corpus import webtext, stopwords\n",
    "import gensim # for LDA which can transform text into vectors\n",
    "import random\n",
    "from pprint import pprint # for pretty printing\n",
    "import numpy as np\n",
    "import logging # for logging\n",
    "#logging.basicConfig(format='%(asctime)s : %(levelname)s : %(message)s', level=logging.INFO)"
   ]
  },
  {
   "cell_type": "code",
   "execution_count": 19,
   "metadata": {},
   "outputs": [],
   "source": [
    "# get three texts with differnent topics\n",
    "firefox = webtext.sents('firefox.txt')\n",
    "wine = webtext.sents('wine.txt')\n",
    "pirates = webtext.sents('pirates.txt')"
   ]
  },
  {
   "cell_type": "code",
   "execution_count": 20,
   "metadata": {},
   "outputs": [],
   "source": [
    "# shuffle the combined dataset\n",
    "all_docs = []\n",
    "all_docs.extend(firefox)\n",
    "all_docs.extend(pirates)\n",
    "all_docs.extend(wine)\n",
    "random.shuffle(all_docs)"
   ]
  },
  {
   "cell_type": "code",
   "execution_count": 21,
   "metadata": {},
   "outputs": [],
   "source": [
    "# filter the datasets by removing stopwords and words with length less than 2\n",
    "docs = [[word for word in doc if word not in stopwords.words('english')] for doc in all_docs]\n",
    "docs = [doc for doc in docs if len(doc)>1]"
   ]
  },
  {
   "cell_type": "code",
   "execution_count": 22,
   "metadata": {},
   "outputs": [],
   "source": [
    "# convert texts into sparse bag of words\n",
    "chunksize = len(docs)\n",
    "dictionary = gensim.corpora.Dictionary(docs)\n",
    "corpus = [dictionary.doc2bow(doc) for doc in docs]\n",
    "model = gensim.models.LdaModel(corpus=corpus, id2word=dictionary, num_topics=3, passes=20)\n",
    "# passes: Number of passes through the corpus during training"
   ]
  },
  {
   "cell_type": "code",
   "execution_count": 23,
   "metadata": {},
   "outputs": [
    {
     "name": "stdout",
     "output_type": "stream",
     "text": [
      "Topic 1: \n",
      "[(0.03048768, '.'), (0.02582594, '\"'), (0.018736826, \"'\"), (0.017258586, '-'), (0.00984258, '('), (0.008966258, 'page'), (0.008167741, ')'), (0.0075031333, 'window'), (0.0074596554, 'Firefox'), (0.006116982, 'open'), (0.0057763923, ':'), (0.0057270164, 'menu'), (0.005659238, 'bar'), (0.005640007, 'tab'), (0.00553119, 'new'), (0.005390482, 'Firebird'), (0.0051678303, 'work'), (0.0049146125, 'browser'), (0.004807911, '0'), (0.0045703757, 'toolbar')]\n",
      "Topic 2: \n",
      "[(0.084658675, '.'), (0.05656586, ','), (0.023430578, '-'), (0.022666657, ':'), (0.017496707, \"'\"), (0.015637713, '['), (0.0155214155, ']'), (0.0145681575, 'I'), (0.010996826, '***'), (0.009582696, '!'), (0.0069803465, 'fruit'), (0.006777121, 'Jack'), (0.0064092265, 'good'), (0.006131621, 'A'), (0.0054320744, 'wine'), (0.0053857802, 'bit'), (0.005104579, '*'), (0.005065796, '?'), (0.0050027464, 'Very'), (0.004790608, 'quite')]\n",
      "Topic 3: \n",
      "[(0.009329953, '?'), (0.0063555376, '!'), (0.0040843417, 'Pleasant'), (0.002626492, 'Why'), (0.0017116934, 'Simple'), (0.001644232, '.'), (0.0016310664, 'terroir'), (0.0016146394, 'Fantastic'), (0.0015603817, 'Mind'), (0.0013752208, 'Even'), (0.0012225726, 'boat'), (0.0011346287, 'Where'), (0.0011222485, 'ho'), (0.0011196637, 'heading'), (0.0010863607, 'enough'), (0.0010765587, 'Who'), (0.0010482052, 'Run'), (0.0010209098, 'says'), (0.0010016458, 'never'), (0.0009867031, 'mix')]\n"
     ]
    }
   ],
   "source": [
    "# example of topic modeling(by printing the top 3 topics's words)\n",
    "top_topics = model.top_topics(corpus)\n",
    "print(\"Topic 1: \")\n",
    "print(top_topics[0][0])\n",
    "print(\"Topic 2: \")\n",
    "print(top_topics[1][0])\n",
    "print(\"Topic 3: \")\n",
    "print(top_topics[2][0])"
   ]
  }
 ],
 "metadata": {
  "kernelspec": {
   "display_name": "Python 3",
   "language": "python",
   "name": "python3"
  },
  "language_info": {
   "codemirror_mode": {
    "name": "ipython",
    "version": 3
   },
   "file_extension": ".py",
   "mimetype": "text/x-python",
   "name": "python",
   "nbconvert_exporter": "python",
   "pygments_lexer": "ipython3",
   "version": "3.10.12"
  }
 },
 "nbformat": 4,
 "nbformat_minor": 2
}
